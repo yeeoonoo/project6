{
 "cells": [
  {
   "cell_type": "code",
   "execution_count": 1,
   "metadata": {},
   "outputs": [],
   "source": [
    "import pandas as pd\n",
    "import numpy as np\n",
    "import matplotlib.pyplot as plt\n",
    "import seaborn as sns"
   ]
  },
  {
   "cell_type": "code",
   "execution_count": 6,
   "metadata": {},
   "outputs": [
    {
     "data": {
      "text/html": [
       "<div>\n",
       "<style scoped>\n",
       "    .dataframe tbody tr th:only-of-type {\n",
       "        vertical-align: middle;\n",
       "    }\n",
       "\n",
       "    .dataframe tbody tr th {\n",
       "        vertical-align: top;\n",
       "    }\n",
       "\n",
       "    .dataframe thead th {\n",
       "        text-align: right;\n",
       "    }\n",
       "</style>\n",
       "<table border=\"1\" class=\"dataframe\">\n",
       "  <thead>\n",
       "    <tr style=\"text-align: right;\">\n",
       "      <th></th>\n",
       "      <th>transaction_date</th>\n",
       "      <th>transaction_hour</th>\n",
       "      <th>location_state</th>\n",
       "      <th>location_city</th>\n",
       "      <th>rewards_number</th>\n",
       "      <th>rewards_member</th>\n",
       "      <th>num_of_items</th>\n",
       "      <th>coupon_flag</th>\n",
       "      <th>discount_amt</th>\n",
       "      <th>order_amt</th>\n",
       "    </tr>\n",
       "  </thead>\n",
       "  <tbody>\n",
       "    <tr>\n",
       "      <th>0</th>\n",
       "      <td>6/24/2020</td>\n",
       "      <td>1:26 PM</td>\n",
       "      <td>Florida</td>\n",
       "      <td>Miami</td>\n",
       "      <td>223-472-61</td>\n",
       "      <td>True</td>\n",
       "      <td>22</td>\n",
       "      <td>NaN</td>\n",
       "      <td>NaN</td>\n",
       "      <td>$213.68</td>\n",
       "    </tr>\n",
       "    <tr>\n",
       "      <th>1</th>\n",
       "      <td>5/15/2020</td>\n",
       "      <td>2:11 PM</td>\n",
       "      <td>South Carolina</td>\n",
       "      <td>Greenville</td>\n",
       "      <td>NaN</td>\n",
       "      <td>NaN</td>\n",
       "      <td>13</td>\n",
       "      <td>Yes</td>\n",
       "      <td>0.33</td>\n",
       "      <td>$155.59</td>\n",
       "    </tr>\n",
       "    <tr>\n",
       "      <th>2</th>\n",
       "      <td>2/20/2020</td>\n",
       "      <td>12:33 PM</td>\n",
       "      <td>Georgia</td>\n",
       "      <td>Atlanta</td>\n",
       "      <td>204-941-15</td>\n",
       "      <td>True</td>\n",
       "      <td>22</td>\n",
       "      <td>NaN</td>\n",
       "      <td>NaN</td>\n",
       "      <td>$106.82</td>\n",
       "    </tr>\n",
       "    <tr>\n",
       "      <th>3</th>\n",
       "      <td>7/22/2020</td>\n",
       "      <td>4:56 PM</td>\n",
       "      <td>Florida</td>\n",
       "      <td>Sarasota</td>\n",
       "      <td>446-940-80</td>\n",
       "      <td>True</td>\n",
       "      <td>17</td>\n",
       "      <td>Yes</td>\n",
       "      <td>0.25</td>\n",
       "      <td>$169.14</td>\n",
       "    </tr>\n",
       "    <tr>\n",
       "      <th>4</th>\n",
       "      <td>1/31/2020</td>\n",
       "      <td>7:53 PM</td>\n",
       "      <td>Florida</td>\n",
       "      <td>Pensacola</td>\n",
       "      <td>NaN</td>\n",
       "      <td>NaN</td>\n",
       "      <td>8</td>\n",
       "      <td>NaN</td>\n",
       "      <td>NaN</td>\n",
       "      <td>$72.93</td>\n",
       "    </tr>\n",
       "    <tr>\n",
       "      <th>...</th>\n",
       "      <td>...</td>\n",
       "      <td>...</td>\n",
       "      <td>...</td>\n",
       "      <td>...</td>\n",
       "      <td>...</td>\n",
       "      <td>...</td>\n",
       "      <td>...</td>\n",
       "      <td>...</td>\n",
       "      <td>...</td>\n",
       "      <td>...</td>\n",
       "    </tr>\n",
       "    <tr>\n",
       "      <th>75615</th>\n",
       "      <td>11/30/2019</td>\n",
       "      <td>5:28 PM</td>\n",
       "      <td>Florida</td>\n",
       "      <td>Fort Pierce</td>\n",
       "      <td>823-376-16</td>\n",
       "      <td>False</td>\n",
       "      <td>12</td>\n",
       "      <td>NaN</td>\n",
       "      <td>NaN</td>\n",
       "      <td>$230.75</td>\n",
       "    </tr>\n",
       "    <tr>\n",
       "      <th>75616</th>\n",
       "      <td>8/2/2020</td>\n",
       "      <td>4:08 PM</td>\n",
       "      <td>Florida</td>\n",
       "      <td>Panama City</td>\n",
       "      <td>663-789-70</td>\n",
       "      <td>False</td>\n",
       "      <td>16</td>\n",
       "      <td>NaN</td>\n",
       "      <td>NaN</td>\n",
       "      <td>$76.02</td>\n",
       "    </tr>\n",
       "    <tr>\n",
       "      <th>75617</th>\n",
       "      <td>1/11/2020</td>\n",
       "      <td>3:25 PM</td>\n",
       "      <td>Florida</td>\n",
       "      <td>Panama City</td>\n",
       "      <td>179-788-42</td>\n",
       "      <td>False</td>\n",
       "      <td>13</td>\n",
       "      <td>NaN</td>\n",
       "      <td>NaN</td>\n",
       "      <td>$104.27</td>\n",
       "    </tr>\n",
       "    <tr>\n",
       "      <th>75618</th>\n",
       "      <td>8/21/2020</td>\n",
       "      <td>1:07 PM</td>\n",
       "      <td>Alabama</td>\n",
       "      <td>Gadsden</td>\n",
       "      <td>121-954-64</td>\n",
       "      <td>True</td>\n",
       "      <td>14</td>\n",
       "      <td>NaN</td>\n",
       "      <td>NaN</td>\n",
       "      <td>$161.50</td>\n",
       "    </tr>\n",
       "    <tr>\n",
       "      <th>75619</th>\n",
       "      <td>11/2/2019</td>\n",
       "      <td>11:50 AM</td>\n",
       "      <td>Georgia</td>\n",
       "      <td>Athens</td>\n",
       "      <td>NaN</td>\n",
       "      <td>NaN</td>\n",
       "      <td>15</td>\n",
       "      <td>NaN</td>\n",
       "      <td>NaN</td>\n",
       "      <td>$179.96</td>\n",
       "    </tr>\n",
       "  </tbody>\n",
       "</table>\n",
       "<p>75620 rows × 10 columns</p>\n",
       "</div>"
      ],
      "text/plain": [
       "      transaction_date transaction_hour  location_state location_city  \\\n",
       "0            6/24/2020          1:26 PM         Florida         Miami   \n",
       "1            5/15/2020          2:11 PM  South Carolina    Greenville   \n",
       "2            2/20/2020         12:33 PM         Georgia       Atlanta   \n",
       "3            7/22/2020          4:56 PM         Florida      Sarasota   \n",
       "4            1/31/2020          7:53 PM         Florida     Pensacola   \n",
       "...                ...              ...             ...           ...   \n",
       "75615       11/30/2019          5:28 PM         Florida   Fort Pierce   \n",
       "75616         8/2/2020          4:08 PM         Florida   Panama City   \n",
       "75617        1/11/2020          3:25 PM         Florida   Panama City   \n",
       "75618        8/21/2020          1:07 PM         Alabama       Gadsden   \n",
       "75619        11/2/2019         11:50 AM         Georgia        Athens   \n",
       "\n",
       "      rewards_number rewards_member  num_of_items coupon_flag  discount_amt  \\\n",
       "0         223-472-61           True            22         NaN           NaN   \n",
       "1                NaN            NaN            13         Yes          0.33   \n",
       "2         204-941-15           True            22         NaN           NaN   \n",
       "3         446-940-80           True            17         Yes          0.25   \n",
       "4                NaN            NaN             8         NaN           NaN   \n",
       "...              ...            ...           ...         ...           ...   \n",
       "75615     823-376-16          False            12         NaN           NaN   \n",
       "75616     663-789-70          False            16         NaN           NaN   \n",
       "75617     179-788-42          False            13         NaN           NaN   \n",
       "75618     121-954-64           True            14         NaN           NaN   \n",
       "75619            NaN            NaN            15         NaN           NaN   \n",
       "\n",
       "      order_amt  \n",
       "0       $213.68  \n",
       "1       $155.59  \n",
       "2       $106.82  \n",
       "3       $169.14  \n",
       "4        $72.93  \n",
       "...         ...  \n",
       "75615   $230.75  \n",
       "75616    $76.02  \n",
       "75617   $104.27  \n",
       "75618   $161.50  \n",
       "75619   $179.96  \n",
       "\n",
       "[75620 rows x 10 columns]"
      ]
     },
     "execution_count": 6,
     "metadata": {},
     "output_type": "execute_result"
    }
   ],
   "source": [
    "df = pd.read_csv('Retail Transactions.csv')\n",
    "df"
   ]
  },
  {
   "cell_type": "markdown",
   "metadata": {},
   "source": [
    "# EDA\n",
    "\n",
    "- 데이터 전처리"
   ]
  },
  {
   "cell_type": "code",
   "execution_count": 7,
   "metadata": {},
   "outputs": [
    {
     "data": {
      "text/plain": [
       "0"
      ]
     },
     "execution_count": 7,
     "metadata": {},
     "output_type": "execute_result"
    }
   ],
   "source": [
    "df.duplicated().sum()"
   ]
  },
  {
   "cell_type": "code",
   "execution_count": 11,
   "metadata": {},
   "outputs": [
    {
     "name": "stdout",
     "output_type": "stream",
     "text": [
      "<class 'pandas.core.frame.DataFrame'>\n",
      "RangeIndex: 75620 entries, 0 to 75619\n",
      "Data columns (total 10 columns):\n",
      " #   Column            Non-Null Count  Dtype  \n",
      "---  ------            --------------  -----  \n",
      " 0   transaction_date  75620 non-null  object \n",
      " 1   transaction_hour  75620 non-null  object \n",
      " 2   location_state    75620 non-null  object \n",
      " 3   location_city     75620 non-null  object \n",
      " 4   rewards_number    43923 non-null  object \n",
      " 5   rewards_member    43923 non-null  object \n",
      " 6   num_of_items      75620 non-null  int64  \n",
      " 7   coupon_flag       20942 non-null  object \n",
      " 8   discount_amt      20942 non-null  float64\n",
      " 9   order_amt         75620 non-null  object \n",
      "dtypes: float64(1), int64(1), object(8)\n",
      "memory usage: 5.8+ MB\n"
     ]
    }
   ],
   "source": [
    "df.info()"
   ]
  },
  {
   "cell_type": "markdown",
   "metadata": {},
   "source": [
    "날짜와 시간을 나타내는 transaction_date, transaction_hour컬럼의 데이터 타입 변경"
   ]
  },
  {
   "cell_type": "code",
   "execution_count": 13,
   "metadata": {},
   "outputs": [],
   "source": [
    "df['transaction_date'] = pd.to_datetime(df['transaction_date'])"
   ]
  },
  {
   "cell_type": "code",
   "execution_count": 22,
   "metadata": {},
   "outputs": [],
   "source": [
    "df['transaction_hour'] = pd.to_datetime(df['transaction_hour']).dt.time"
   ]
  },
  {
   "cell_type": "code",
   "execution_count": 23,
   "metadata": {},
   "outputs": [
    {
     "data": {
      "text/html": [
       "<div>\n",
       "<style scoped>\n",
       "    .dataframe tbody tr th:only-of-type {\n",
       "        vertical-align: middle;\n",
       "    }\n",
       "\n",
       "    .dataframe tbody tr th {\n",
       "        vertical-align: top;\n",
       "    }\n",
       "\n",
       "    .dataframe thead th {\n",
       "        text-align: right;\n",
       "    }\n",
       "</style>\n",
       "<table border=\"1\" class=\"dataframe\">\n",
       "  <thead>\n",
       "    <tr style=\"text-align: right;\">\n",
       "      <th></th>\n",
       "      <th>transaction_date</th>\n",
       "      <th>transaction_hour</th>\n",
       "      <th>location_state</th>\n",
       "      <th>location_city</th>\n",
       "      <th>rewards_number</th>\n",
       "      <th>rewards_member</th>\n",
       "      <th>num_of_items</th>\n",
       "      <th>coupon_flag</th>\n",
       "      <th>discount_amt</th>\n",
       "      <th>order_amt</th>\n",
       "    </tr>\n",
       "  </thead>\n",
       "  <tbody>\n",
       "    <tr>\n",
       "      <th>0</th>\n",
       "      <td>2020-06-24</td>\n",
       "      <td>13:26:00</td>\n",
       "      <td>Florida</td>\n",
       "      <td>Miami</td>\n",
       "      <td>223-472-61</td>\n",
       "      <td>True</td>\n",
       "      <td>22</td>\n",
       "      <td>NaN</td>\n",
       "      <td>NaN</td>\n",
       "      <td>$213.68</td>\n",
       "    </tr>\n",
       "    <tr>\n",
       "      <th>1</th>\n",
       "      <td>2020-05-15</td>\n",
       "      <td>14:11:00</td>\n",
       "      <td>South Carolina</td>\n",
       "      <td>Greenville</td>\n",
       "      <td>NaN</td>\n",
       "      <td>NaN</td>\n",
       "      <td>13</td>\n",
       "      <td>Yes</td>\n",
       "      <td>0.33</td>\n",
       "      <td>$155.59</td>\n",
       "    </tr>\n",
       "    <tr>\n",
       "      <th>2</th>\n",
       "      <td>2020-02-20</td>\n",
       "      <td>12:33:00</td>\n",
       "      <td>Georgia</td>\n",
       "      <td>Atlanta</td>\n",
       "      <td>204-941-15</td>\n",
       "      <td>True</td>\n",
       "      <td>22</td>\n",
       "      <td>NaN</td>\n",
       "      <td>NaN</td>\n",
       "      <td>$106.82</td>\n",
       "    </tr>\n",
       "    <tr>\n",
       "      <th>3</th>\n",
       "      <td>2020-07-22</td>\n",
       "      <td>16:56:00</td>\n",
       "      <td>Florida</td>\n",
       "      <td>Sarasota</td>\n",
       "      <td>446-940-80</td>\n",
       "      <td>True</td>\n",
       "      <td>17</td>\n",
       "      <td>Yes</td>\n",
       "      <td>0.25</td>\n",
       "      <td>$169.14</td>\n",
       "    </tr>\n",
       "    <tr>\n",
       "      <th>4</th>\n",
       "      <td>2020-01-31</td>\n",
       "      <td>19:53:00</td>\n",
       "      <td>Florida</td>\n",
       "      <td>Pensacola</td>\n",
       "      <td>NaN</td>\n",
       "      <td>NaN</td>\n",
       "      <td>8</td>\n",
       "      <td>NaN</td>\n",
       "      <td>NaN</td>\n",
       "      <td>$72.93</td>\n",
       "    </tr>\n",
       "  </tbody>\n",
       "</table>\n",
       "</div>"
      ],
      "text/plain": [
       "  transaction_date transaction_hour  location_state location_city  \\\n",
       "0       2020-06-24         13:26:00         Florida         Miami   \n",
       "1       2020-05-15         14:11:00  South Carolina    Greenville   \n",
       "2       2020-02-20         12:33:00         Georgia       Atlanta   \n",
       "3       2020-07-22         16:56:00         Florida      Sarasota   \n",
       "4       2020-01-31         19:53:00         Florida     Pensacola   \n",
       "\n",
       "  rewards_number rewards_member  num_of_items coupon_flag  discount_amt  \\\n",
       "0     223-472-61           True            22         NaN           NaN   \n",
       "1            NaN            NaN            13         Yes          0.33   \n",
       "2     204-941-15           True            22         NaN           NaN   \n",
       "3     446-940-80           True            17         Yes          0.25   \n",
       "4            NaN            NaN             8         NaN           NaN   \n",
       "\n",
       "  order_amt  \n",
       "0   $213.68  \n",
       "1   $155.59  \n",
       "2   $106.82  \n",
       "3   $169.14  \n",
       "4    $72.93  "
      ]
     },
     "execution_count": 23,
     "metadata": {},
     "output_type": "execute_result"
    }
   ],
   "source": [
    "df.head()"
   ]
  },
  {
   "cell_type": "markdown",
   "metadata": {},
   "source": [
    "rewards_number가 없는 경우, rewards_member가 아닌 경우가 정상적이라고 볼 수 있음 \\\n",
    "따라서 두 컬럼은 같은 행에서 둘 다 결측치가 있음을 확인"
   ]
  },
  {
   "cell_type": "code",
   "execution_count": 31,
   "metadata": {},
   "outputs": [
    {
     "name": "stdout",
     "output_type": "stream",
     "text": [
      "<class 'pandas.core.frame.DataFrame'>\n",
      "Int64Index: 31697 entries, 1 to 75619\n",
      "Data columns (total 10 columns):\n",
      " #   Column            Non-Null Count  Dtype         \n",
      "---  ------            --------------  -----         \n",
      " 0   transaction_date  31697 non-null  datetime64[ns]\n",
      " 1   transaction_hour  31697 non-null  object        \n",
      " 2   location_state    31697 non-null  object        \n",
      " 3   location_city     31697 non-null  object        \n",
      " 4   rewards_number    0 non-null      object        \n",
      " 5   rewards_member    0 non-null      object        \n",
      " 6   num_of_items      31697 non-null  int64         \n",
      " 7   coupon_flag       8818 non-null   object        \n",
      " 8   discount_amt      8818 non-null   float64       \n",
      " 9   order_amt         31697 non-null  object        \n",
      "dtypes: datetime64[ns](1), float64(1), int64(1), object(7)\n",
      "memory usage: 2.7+ MB\n"
     ]
    }
   ],
   "source": [
    "df[df['rewards_number'].isnull()].info()"
   ]
  },
  {
   "cell_type": "markdown",
   "metadata": {},
   "source": [
    "reward member가 아닌 경우 값을 결측치가 아닌 false로 대체"
   ]
  },
  {
   "cell_type": "code",
   "execution_count": 44,
   "metadata": {},
   "outputs": [],
   "source": [
    "# rewards_member컬럼의 결측치를 True와 맞춰 False로 대체\n",
    "df['rewards_member'] = df['rewards_member'].fillna('False')"
   ]
  },
  {
   "cell_type": "code",
   "execution_count": 43,
   "metadata": {},
   "outputs": [
    {
     "data": {
      "text/plain": [
       "0"
      ]
     },
     "execution_count": 43,
     "metadata": {},
     "output_type": "execute_result"
    }
   ],
   "source": [
    "# rewards_member컬럼의 결측치가 사라짐을 확인하면서 rewards_number컬럼의 결측치가 rewards_member컬럼과 같음을 확인\n",
    "df['rewards_member'].isnull().sum()"
   ]
  },
  {
   "cell_type": "code",
   "execution_count": 39,
   "metadata": {},
   "outputs": [
    {
     "data": {
      "text/plain": [
       "Yes    20942\n",
       "Name: coupon_flag, dtype: int64"
      ]
     },
     "execution_count": 39,
     "metadata": {},
     "output_type": "execute_result"
    }
   ],
   "source": [
    "df['coupon_flag'].value_counts()"
   ]
  },
  {
   "cell_type": "code",
   "execution_count": 41,
   "metadata": {},
   "outputs": [
    {
     "name": "stdout",
     "output_type": "stream",
     "text": [
      "<class 'pandas.core.frame.DataFrame'>\n",
      "Int64Index: 54678 entries, 0 to 75619\n",
      "Data columns (total 10 columns):\n",
      " #   Column            Non-Null Count  Dtype         \n",
      "---  ------            --------------  -----         \n",
      " 0   transaction_date  54678 non-null  datetime64[ns]\n",
      " 1   transaction_hour  54678 non-null  object        \n",
      " 2   location_state    54678 non-null  object        \n",
      " 3   location_city     54678 non-null  object        \n",
      " 4   rewards_number    31799 non-null  object        \n",
      " 5   rewards_member    54678 non-null  object        \n",
      " 6   num_of_items      54678 non-null  int64         \n",
      " 7   coupon_flag       0 non-null      object        \n",
      " 8   discount_amt      0 non-null      float64       \n",
      " 9   order_amt         54678 non-null  object        \n",
      "dtypes: datetime64[ns](1), float64(1), int64(1), object(7)\n",
      "memory usage: 4.6+ MB\n"
     ]
    }
   ],
   "source": [
    "df[df['coupon_flag'].isnull()].info()"
   ]
  },
  {
   "cell_type": "markdown",
   "metadata": {},
   "source": [
    "coupon_flag컬럼의 경우 마찬가지로 쿠폰이 존재하지 않다면 discount_amt값이 없으므로 \\\n",
    "두 컬럼은 같은 행에서 둘 다 결측치가 있음을 확인"
   ]
  },
  {
   "cell_type": "code",
   "execution_count": 46,
   "metadata": {},
   "outputs": [],
   "source": [
    "# coupon_flag컬럼의 결측치를 Yes와 맞춰 No로 대체\n",
    "df['coupon_flag'] = df['coupon_flag'].fillna('No')\n",
    "\n",
    "# coupon_amt컬럼의 결측치를 숫자형 데이터에 맞춰 0로 대체\n",
    "df['discount_amt'] = df['discount_amt'].fillna(0)"
   ]
  },
  {
   "cell_type": "code",
   "execution_count": 47,
   "metadata": {},
   "outputs": [
    {
     "name": "stdout",
     "output_type": "stream",
     "text": [
      "<class 'pandas.core.frame.DataFrame'>\n",
      "RangeIndex: 75620 entries, 0 to 75619\n",
      "Data columns (total 10 columns):\n",
      " #   Column            Non-Null Count  Dtype         \n",
      "---  ------            --------------  -----         \n",
      " 0   transaction_date  75620 non-null  datetime64[ns]\n",
      " 1   transaction_hour  75620 non-null  object        \n",
      " 2   location_state    75620 non-null  object        \n",
      " 3   location_city     75620 non-null  object        \n",
      " 4   rewards_number    43923 non-null  object        \n",
      " 5   rewards_member    75620 non-null  object        \n",
      " 6   num_of_items      75620 non-null  int64         \n",
      " 7   coupon_flag       75620 non-null  object        \n",
      " 8   discount_amt      75620 non-null  float64       \n",
      " 9   order_amt         75620 non-null  object        \n",
      "dtypes: datetime64[ns](1), float64(1), int64(1), object(7)\n",
      "memory usage: 5.8+ MB\n"
     ]
    }
   ],
   "source": [
    "df.info()"
   ]
  },
  {
   "cell_type": "code",
   "execution_count": 49,
   "metadata": {},
   "outputs": [
    {
     "data": {
      "text/plain": [
       "0.00    54678\n",
       "0.13      571\n",
       "0.16      561\n",
       "0.11      561\n",
       "0.18      552\n",
       "0.29      546\n",
       "0.36      545\n",
       "0.30      541\n",
       "0.35      540\n",
       "0.12      539\n",
       "0.22      539\n",
       "0.40      539\n",
       "0.27      537\n",
       "0.39      537\n",
       "0.31      537\n",
       "0.23      536\n",
       "0.24      535\n",
       "0.41      534\n",
       "0.14      532\n",
       "0.15      529\n",
       "0.17      527\n",
       "0.32      526\n",
       "0.44      524\n",
       "0.46      524\n",
       "0.28      524\n",
       "0.47      523\n",
       "0.21      519\n",
       "0.43      510\n",
       "0.26      510\n",
       "0.38      509\n",
       "0.19      508\n",
       "0.37      501\n",
       "0.45      500\n",
       "0.20      500\n",
       "0.48      500\n",
       "0.42      495\n",
       "0.49      490\n",
       "0.34      490\n",
       "0.25      479\n",
       "0.33      474\n",
       "0.50      280\n",
       "0.10      218\n",
       "Name: discount_amt, dtype: int64"
      ]
     },
     "execution_count": 49,
     "metadata": {},
     "output_type": "execute_result"
    }
   ],
   "source": [
    "# 'discount_amt'컬럼의 값을 보아 할인률로 확인함\n",
    "df['discount_amt'].value_counts()"
   ]
  },
  {
   "cell_type": "markdown",
   "metadata": {},
   "source": [
    "마지막 order_amt컬럼의 화폐단위 $를 삭제"
   ]
  },
  {
   "cell_type": "code",
   "execution_count": 52,
   "metadata": {},
   "outputs": [],
   "source": [
    "df['order_amt'] = df['order_amt'].str.lstrip('$')"
   ]
  },
  {
   "cell_type": "code",
   "execution_count": 70,
   "metadata": {},
   "outputs": [
    {
     "name": "stdout",
     "output_type": "stream",
     "text": [
      "<class 'pandas.core.frame.DataFrame'>\n",
      "RangeIndex: 75620 entries, 0 to 75619\n",
      "Data columns (total 10 columns):\n",
      " #   Column            Non-Null Count  Dtype         \n",
      "---  ------            --------------  -----         \n",
      " 0   transaction_date  75620 non-null  datetime64[ns]\n",
      " 1   transaction_hour  75620 non-null  object        \n",
      " 2   location_state    75620 non-null  object        \n",
      " 3   location_city     75620 non-null  object        \n",
      " 4   rewards_number    43923 non-null  object        \n",
      " 5   rewards_member    75620 non-null  object        \n",
      " 6   num_of_items      75620 non-null  int64         \n",
      " 7   coupon_flag       75620 non-null  object        \n",
      " 8   discount_amt      75620 non-null  float64       \n",
      " 9   order_amt         75620 non-null  object        \n",
      "dtypes: datetime64[ns](1), float64(1), int64(1), object(7)\n",
      "memory usage: 5.8+ MB\n"
     ]
    }
   ],
   "source": [
    "df.info()"
   ]
  },
  {
   "cell_type": "markdown",
   "metadata": {},
   "source": [
    "데이터 타입 변경은 태블로에서 처리하기로 하고 csv파일로 저장"
   ]
  },
  {
   "cell_type": "code",
   "execution_count": 71,
   "metadata": {},
   "outputs": [],
   "source": [
    "df.to_csv('retail.csv')"
   ]
  },
  {
   "cell_type": "code",
   "execution_count": null,
   "metadata": {},
   "outputs": [],
   "source": []
  }
 ],
 "metadata": {
  "kernelspec": {
   "display_name": "Python 3.8.16 ('project1')",
   "language": "python",
   "name": "python3"
  },
  "language_info": {
   "codemirror_mode": {
    "name": "ipython",
    "version": 3
   },
   "file_extension": ".py",
   "mimetype": "text/x-python",
   "name": "python",
   "nbconvert_exporter": "python",
   "pygments_lexer": "ipython3",
   "version": "3.8.16"
  },
  "orig_nbformat": 4,
  "vscode": {
   "interpreter": {
    "hash": "ab314c1ce4b8b4e6fdecadd8a155380fcd422e011d41e0b3a11a0e864085b025"
   }
  }
 },
 "nbformat": 4,
 "nbformat_minor": 2
}
